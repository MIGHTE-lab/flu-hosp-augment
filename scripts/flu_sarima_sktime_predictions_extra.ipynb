{
 "cells": [
  {
   "cell_type": "markdown",
   "metadata": {
    "id": "1D206F2NF0U0"
   },
   "source": [
    "# Analyzing the Influenza data via ARIMA for short term projections"
   ]
  },
  {
   "cell_type": "code",
   "execution_count": 1,
   "metadata": {
    "executionInfo": {
     "elapsed": 590,
     "status": "ok",
     "timestamp": 1655473149768,
     "user": {
      "displayName": "Austin Meyer",
      "userId": "09155836452282479150"
     },
     "user_tz": 240
    },
    "id": "RYoQfBieJW7Y"
   },
   "outputs": [],
   "source": [
    "from IPython.display import Javascript"
   ]
  },
  {
   "cell_type": "markdown",
   "metadata": {
    "id": "CXSUJTbuJa9T"
   },
   "source": [
    "### Mount data location"
   ]
  },
  {
   "cell_type": "code",
   "execution_count": 2,
   "metadata": {
    "colab": {
     "base_uri": "https://localhost:8080/",
     "height": 204
    },
    "executionInfo": {
     "elapsed": 18,
     "status": "error",
     "timestamp": 1655473149772,
     "user": {
      "displayName": "Austin Meyer",
      "userId": "09155836452282479150"
     },
     "user_tz": 240
    },
    "id": "Hp2rCsSgxMb3",
    "outputId": "a31821bf-517e-4416-8de6-9fce456d32cc"
   },
   "outputs": [],
   "source": [
    "import os\n",
    "\n",
    "os.chdir('.') ## for local"
   ]
  },
  {
   "cell_type": "markdown",
   "metadata": {
    "id": "CAaZvyboJe4F"
   },
   "source": [
    "### Install python and R packages (installing R packages can be slow)"
   ]
  },
  {
   "cell_type": "code",
   "execution_count": 3,
   "metadata": {
    "executionInfo": {
     "elapsed": 13,
     "status": "aborted",
     "timestamp": 1655473149768,
     "user": {
      "displayName": "Austin Meyer",
      "userId": "09155836452282479150"
     },
     "user_tz": 240
    },
    "id": "PDGywZxszOYy"
   },
   "outputs": [
    {
     "name": "stderr",
     "output_type": "stream",
     "text": [
      "R[write to console]: All packages loaded successfully\n",
      "\n"
     ]
    }
   ],
   "source": [
    "#%%capture\n",
    "%reload_ext rpy2.ipython\n",
    "\n",
    "%R needed.packages <- c('easypackages','tidyverse','lubridate','cowplot','colorspace','MLmetrics','imputeTS', 'broom', 'janitor', 'magrittr', 'kableExtra')\n",
    "%R new.packages <- needed.packages[!(needed.packages %in% installed.packages()[,\"Package\"])]\n",
    "%R if(length(new.packages)) install.packages(new.packages)\n",
    "\n",
    "%R suppressPackageStartupMessages(library(easypackages))\n",
    "%R suppressPackageStartupMessages(libraries(needed.packages))"
   ]
  },
  {
   "cell_type": "code",
   "execution_count": 4,
   "metadata": {
    "executionInfo": {
     "elapsed": 12,
     "status": "aborted",
     "timestamp": 1655473149768,
     "user": {
      "displayName": "Austin Meyer",
      "userId": "09155836452282479150"
     },
     "user_tz": 240
    },
    "id": "lRJINKbf0Lah"
   },
   "outputs": [],
   "source": [
    "#%%capture\n",
    "import time\n",
    "\n",
    "## Data manipulation tools\n",
    "import numpy as np\n",
    "import pandas as pd\n",
    "import pmdarima\n",
    "\n",
    "## Time series analysis libraries sktime\n",
    "from sktime.forecasting.compose            import ForecastingPipeline, TransformedTargetForecaster\n",
    "from sktime.forecasting.compose            import AutoEnsembleForecaster\n",
    "from sktime.transformations.compose        import TransformerPipeline\n",
    "from sktime.transformations.series.compose import OptionalPassthrough\n",
    "from sktime.forecasting.compose            import make_reduction\n",
    "from sktime.forecasting.base               import ForecastingHorizon\n",
    "from sktime.transformations.series.adapt   import TabularToSeriesAdaptor\n",
    "from sktime.transformations.series.impute  import Imputer\n",
    "\n",
    "from sktime.forecasting.model_selection    import ExpandingWindowSplitter\n",
    "from sktime.forecasting.model_selection    import ForecastingGridSearchCV\n",
    "from sktime.forecasting.model_selection    import temporal_train_test_split\n",
    "\n",
    "from sklearn.preprocessing                 import MinMaxScaler, StandardScaler, RobustScaler, PowerTransformer\n",
    "from sklearn.neighbors                     import KNeighborsRegressor\n",
    "from sklearn.linear_model                  import ElasticNet\n",
    "\n",
    "from sktime.forecasting.naive              import NaiveForecaster\n",
    "from sktime.forecasting.ets                import AutoETS\n",
    "from sktime.forecasting.arima              import AutoARIMA\n",
    "\n",
    "## accessories\n",
    "import pickle\n",
    "import rpy2.robjects as ro"
   ]
  },
  {
   "cell_type": "markdown",
   "metadata": {
    "id": "4h6PnJqhWMco"
   },
   "source": [
    "### R Functions"
   ]
  },
  {
   "cell_type": "code",
   "execution_count": 5,
   "metadata": {
    "executionInfo": {
     "elapsed": 13,
     "status": "aborted",
     "timestamp": 1655473149769,
     "user": {
      "displayName": "Austin Meyer",
      "userId": "09155836452282479150"
     },
     "user_tz": 240
    },
    "id": "7LSVeQoLWLqR"
   },
   "outputs": [],
   "source": [
    "%%R\n",
    "\n",
    "cols <- c(\"#396AB1\", \"#DA7C30\", '#3E9651', '#CC2529')\n",
    "\n",
    "plot_basic_timeseries <- function(ldf) {\n",
    "  ggplot(ldf %>% pivot_longer(!date, names_to = 'region', values_to = 'incidence'), \n",
    "         aes(x = date, \n",
    "             y = incidence)) +\n",
    "  geom_point(color = '#000000',\n",
    "             fill = '#AAAAAA',\n",
    "             shape = 21,\n",
    "             size = 3) +\n",
    "  geom_line(size = 1.05,\n",
    "            alpha = 0.5) +\n",
    "  facet_wrap(~region, ncol = 3, scales = 'free_y') +\n",
    "  xlab('date') +\n",
    "  ylab('Flu incidence') +\n",
    "  theme_bw(24)\n",
    "}"
   ]
  },
  {
   "cell_type": "markdown",
   "metadata": {
    "id": "DoSd5MHLF8J-"
   },
   "source": [
    "### Python Functions"
   ]
  },
  {
   "cell_type": "code",
   "execution_count": 6,
   "metadata": {
    "executionInfo": {
     "elapsed": 13,
     "status": "aborted",
     "timestamp": 1655473149769,
     "user": {
      "displayName": "Austin Meyer",
      "userId": "09155836452282479150"
     },
     "user_tz": 240
    },
    "id": "dWY4NOzAF7Qo"
   },
   "outputs": [],
   "source": [
    "def generate_predictions_for_region(lgs, ldata, lseries, lnt, n_ahead):\n",
    "  lpred = []\n",
    "  lreal = []\n",
    "  lnaive = []\n",
    "  lmodels = []\n",
    "  fh = np.array([n_ahead])\n",
    "\n",
    "  print(lseries)\n",
    "\n",
    "  ltrain, ltest = make_data(ldata, lnt)\n",
    "\n",
    "  lfit = lgs.fit(ltrain[[lseries]].dropna(), fh = fh)\n",
    "  lmodels.append(lfit)\n",
    "\n",
    "  print(lfit)\n",
    "\n",
    "  for i in range(len(ldata[[lseries]]) - lnt):\n",
    "    ltrain, ltest = make_data(ldata, lnt + i)\n",
    "    lfit = lfit.fit(ltrain[[lseries]].dropna(), fh = fh)\n",
    "    lpred.append(np.array(lfit.predict(fh)).flatten()[0])\n",
    "    lnaive.append(ltrain[[lseries]].dropna().values.flatten()[-1])\n",
    "\n",
    "    if len(ltest[[lseries]].values.flatten()) >= n_ahead:\n",
    "      lreal.append(ltest[[lseries]].values.flatten()[n_ahead - 1])\n",
    "    else:\n",
    "      lreal.append(np.NAN)\n",
    "\n",
    "  lfit = lfit.fit(make_data(ldata, len(ldata[[lseries]].dropna()))[[lseries]], fh = fh)\n",
    "  lpred.append(np.array(lfit.predict(fh)).flatten()[0])\n",
    "  lreal.append(np.NAN)\n",
    "  lnaive.append(make_data(ldata, len(ldata[[lseries]]))[[lseries]].values.flatten()[-1])\n",
    "\n",
    "  return lpred, lreal, lnaive, lmodels\n",
    "\n",
    "def generate_predictions_for_country(lgscv, ldata, lnt, n_ahead):\n",
    "  fdf = pd.DataFrame()\n",
    "\n",
    "  for tseries in ldata.columns[1:]:\n",
    "    l_pred, l_real, l_naive, lmodels = generate_predictions_for_region(lgscv, ldata, tseries, lnt, n_ahead)\n",
    "    \n",
    "    l_dates = [(pd.to_datetime(ldata.date.values[-1]) + pd.DateOffset(weeks = i + 1)).strftime('%Y-%m-%d') for i in range(n_ahead)]\n",
    "    lpred_df = pd.DataFrame({'date': np.append(ldata.iloc[(lnt + n_ahead - 1):,].date.values, l_dates),\n",
    "                             'Model': l_pred,\n",
    "                             'Real': l_real,\n",
    "                             'Persistence': l_naive,\n",
    "                             'horizon': np.repeat(n_ahead, len(l_pred)),\n",
    "                             'dev': np.repeat(tseries, len(l_pred))})\n",
    "    \n",
    "    fdf = pd.concat([fdf, lpred_df])\n",
    "  \n",
    "  return fdf, lmodels\n",
    "\n",
    "def make_data(ldata, lnt):\n",
    "  opt_df = ldata.set_index('date')\n",
    "  opt_df.index = pd.to_datetime(opt_df.index)\n",
    "  opt_df.index = pd.PeriodIndex(opt_df.index, freq = \"D\")\n",
    "  \n",
    "  if lnt == ldata.shape[0]:\n",
    "    return opt_df\n",
    "  else:\n",
    "    ltrain, ltest = temporal_train_test_split(opt_df, train_size = lnt)\n",
    "    return ltrain, ltest"
   ]
  },
  {
   "cell_type": "markdown",
   "metadata": {
    "id": "7YyhrGci56Qf"
   },
   "source": [
    "### Grab the data"
   ]
  },
  {
   "cell_type": "code",
   "execution_count": 7,
   "metadata": {
    "executionInfo": {
     "elapsed": 13,
     "status": "aborted",
     "timestamp": 1655473149769,
     "user": {
      "displayName": "Austin Meyer",
      "userId": "09155836452282479150"
     },
     "user_tz": 240
    },
    "id": "r52Hvg1H6Gsq"
   },
   "outputs": [
    {
     "name": "stdout",
     "output_type": "stream",
     "text": [
      "Rows: 31779 Columns: 7\n",
      "── Column specification ────────────────────────────────────────────────────────\n",
      "Delimiter: \",\"\n",
      "chr  (1): location_name\n",
      "dbl  (5): ili, pred_hosp, true_hosp, population, total_hosp\n",
      "date (1): date\n",
      "\n",
      "ℹ Use `spec()` to retrieve the full column specification for this data.\n",
      "ℹ Specify the column types or set `show_col_types = FALSE` to quiet this message.\n",
      "# A tibble: 148 × 3\n",
      "   date       Florida `Puerto Rico`\n",
      "   <chr>        <dbl>         <dbl>\n",
      " 1 2021-07-03      25            19\n",
      " 2 2021-07-10      34            27\n",
      " 3 2021-07-17      53            16\n",
      " 4 2021-07-24      30            18\n",
      " 5 2021-07-31      41            18\n",
      " 6 2021-08-07      49            25\n",
      " 7 2021-08-14      43            27\n",
      " 8 2021-08-21      34            25\n",
      " 9 2021-08-28      26            35\n",
      "10 2021-09-04      22            23\n",
      "# ℹ 138 more rows\n",
      "# ℹ Use `print(n = ...)` to see more rows\n"
     ]
    }
   ],
   "source": [
    "%%R\n",
    "\n",
    "idata <- read_csv('../imputed_and_stitched_hosp.csv') %>%\n",
    "  filter(location_name %in% c('Florida', 'Puerto Rico')) %>%\n",
    "  mutate(value = total_hosp) %>%\n",
    "  dplyr::select(date, location_name, value) %>%\n",
    "  pivot_wider(names_from = location_name, values_from = value) %>%\n",
    "  drop_na() %>%\n",
    "  mutate(date = as.character(date))\n",
    "\n",
    "#data <- idata[217:nrow(idata),]\n",
    "data <- idata\n",
    "\n",
    "print(data, n = 10)"
   ]
  },
  {
   "cell_type": "markdown",
   "metadata": {
    "id": "G7i7ECWDHvl-"
   },
   "source": [
    "### Basic Time Series"
   ]
  },
  {
   "cell_type": "code",
   "execution_count": 8,
   "metadata": {
    "executionInfo": {
     "elapsed": 13,
     "status": "aborted",
     "timestamp": 1655473149769,
     "user": {
      "displayName": "Austin Meyer",
      "userId": "09155836452282479150"
     },
     "user_tz": 240
    },
    "id": "VnPBScLM6IdA"
   },
   "outputs": [
    {
     "data": {
      "image/png": "[encoded data removed]"
     },
     "metadata": {},
     "output_type": "display_data"
    }
   ],
   "source": [
    "%%R -w 50 -h 10 -u cm\n",
    "\n",
    "data$date <- ymd(data$date)\n",
    "\n",
    "p.basic <- plot_basic_timeseries(data)\n",
    "show(p.basic)"
   ]
  },
  {
   "cell_type": "markdown",
   "metadata": {
    "id": "1vOr8aVHHyRo"
   },
   "source": [
    "### Send to Python"
   ]
  },
  {
   "cell_type": "code",
   "execution_count": 9,
   "metadata": {
    "executionInfo": {
     "elapsed": 14,
     "status": "aborted",
     "timestamp": 1655473149770,
     "user": {
      "displayName": "Austin Meyer",
      "userId": "09155836452282479150"
     },
     "user_tz": 240
    },
    "id": "XGmw6Ml6xedY"
   },
   "outputs": [],
   "source": [
    "%R data$date <- as.character(data$date)\n",
    "%R -o data"
   ]
  },
  {
   "cell_type": "markdown",
   "metadata": {
    "id": "d3BPy8AEH2X9"
   },
   "source": [
    "### Create train and test split"
   ]
  },
  {
   "cell_type": "code",
   "execution_count": 10,
   "metadata": {
    "executionInfo": {
     "elapsed": 14,
     "status": "aborted",
     "timestamp": 1655473149770,
     "user": {
      "displayName": "Austin Meyer",
      "userId": "09155836452282479150"
     },
     "user_tz": 240
    },
    "id": "ZTlHs3E4BE_E"
   },
   "outputs": [
    {
     "data": {
      "text/html": [
       "<div>\n",
       "<style scoped>\n",
       "    .dataframe tbody tr th:only-of-type {\n",
       "        vertical-align: middle;\n",
       "    }\n",
       "\n",
       "    .dataframe tbody tr th {\n",
       "        vertical-align: top;\n",
       "    }\n",
       "\n",
       "    .dataframe thead th {\n",
       "        text-align: right;\n",
       "    }\n",
       "</style>\n",
       "<table border=\"1\" class=\"dataframe\">\n",
       "  <thead>\n",
       "    <tr style=\"text-align: right;\">\n",
       "      <th></th>\n",
       "      <th>Florida</th>\n",
       "      <th>Puerto Rico</th>\n",
       "    </tr>\n",
       "    <tr>\n",
       "      <th>date</th>\n",
       "      <th></th>\n",
       "      <th></th>\n",
       "    </tr>\n",
       "  </thead>\n",
       "  <tbody>\n",
       "    <tr>\n",
       "      <th>2024-01-06</th>\n",
       "      <td>1414.0</td>\n",
       "      <td>51.0</td>\n",
       "    </tr>\n",
       "    <tr>\n",
       "      <th>2024-01-13</th>\n",
       "      <td>1071.0</td>\n",
       "      <td>61.0</td>\n",
       "    </tr>\n",
       "    <tr>\n",
       "      <th>2024-01-20</th>\n",
       "      <td>888.0</td>\n",
       "      <td>50.0</td>\n",
       "    </tr>\n",
       "    <tr>\n",
       "      <th>2024-01-27</th>\n",
       "      <td>835.0</td>\n",
       "      <td>51.0</td>\n",
       "    </tr>\n",
       "    <tr>\n",
       "      <th>2024-02-03</th>\n",
       "      <td>711.0</td>\n",
       "      <td>34.0</td>\n",
       "    </tr>\n",
       "    <tr>\n",
       "      <th>2024-02-10</th>\n",
       "      <td>828.0</td>\n",
       "      <td>68.0</td>\n",
       "    </tr>\n",
       "    <tr>\n",
       "      <th>2024-02-17</th>\n",
       "      <td>678.0</td>\n",
       "      <td>52.0</td>\n",
       "    </tr>\n",
       "    <tr>\n",
       "      <th>2024-02-24</th>\n",
       "      <td>625.0</td>\n",
       "      <td>52.0</td>\n",
       "    </tr>\n",
       "    <tr>\n",
       "      <th>2024-03-02</th>\n",
       "      <td>538.0</td>\n",
       "      <td>43.0</td>\n",
       "    </tr>\n",
       "    <tr>\n",
       "      <th>2024-03-09</th>\n",
       "      <td>536.0</td>\n",
       "      <td>52.0</td>\n",
       "    </tr>\n",
       "    <tr>\n",
       "      <th>2024-03-16</th>\n",
       "      <td>532.0</td>\n",
       "      <td>64.0</td>\n",
       "    </tr>\n",
       "    <tr>\n",
       "      <th>2024-03-23</th>\n",
       "      <td>428.0</td>\n",
       "      <td>50.0</td>\n",
       "    </tr>\n",
       "    <tr>\n",
       "      <th>2024-03-30</th>\n",
       "      <td>404.0</td>\n",
       "      <td>48.0</td>\n",
       "    </tr>\n",
       "    <tr>\n",
       "      <th>2024-04-06</th>\n",
       "      <td>314.0</td>\n",
       "      <td>39.0</td>\n",
       "    </tr>\n",
       "    <tr>\n",
       "      <th>2024-04-13</th>\n",
       "      <td>327.0</td>\n",
       "      <td>43.0</td>\n",
       "    </tr>\n",
       "    <tr>\n",
       "      <th>2024-04-20</th>\n",
       "      <td>243.0</td>\n",
       "      <td>36.0</td>\n",
       "    </tr>\n",
       "    <tr>\n",
       "      <th>2024-04-27</th>\n",
       "      <td>276.0</td>\n",
       "      <td>44.0</td>\n",
       "    </tr>\n",
       "  </tbody>\n",
       "</table>\n",
       "</div>"
      ],
      "text/plain": [
       "            Florida  Puerto Rico\n",
       "date                            \n",
       "2024-01-06   1414.0         51.0\n",
       "2024-01-13   1071.0         61.0\n",
       "2024-01-20    888.0         50.0\n",
       "2024-01-27    835.0         51.0\n",
       "2024-02-03    711.0         34.0\n",
       "2024-02-10    828.0         68.0\n",
       "2024-02-17    678.0         52.0\n",
       "2024-02-24    625.0         52.0\n",
       "2024-03-02    538.0         43.0\n",
       "2024-03-09    536.0         52.0\n",
       "2024-03-16    532.0         64.0\n",
       "2024-03-23    428.0         50.0\n",
       "2024-03-30    404.0         48.0\n",
       "2024-04-06    314.0         39.0\n",
       "2024-04-13    327.0         43.0\n",
       "2024-04-20    243.0         36.0\n",
       "2024-04-27    276.0         44.0"
      ]
     },
     "metadata": {},
     "output_type": "display_data"
    }
   ],
   "source": [
    "num_train = 131\n",
    "\n",
    "extrain, extest = make_data(data, num_train)\n",
    "display(extest)"
   ]
  },
  {
   "cell_type": "markdown",
   "metadata": {
    "id": "DfjOjl9BQJl5"
   },
   "source": [
    "## We'll start with predicting"
   ]
  },
  {
   "cell_type": "markdown",
   "metadata": {
    "id": "BXEmAiAGGPh4"
   },
   "source": [
    "### Construct a pipeline with transformation followed by predictions\n"
   ]
  },
  {
   "cell_type": "code",
   "execution_count": 11,
   "metadata": {
    "executionInfo": {
     "elapsed": 15,
     "status": "aborted",
     "timestamp": 1655473149771,
     "user": {
      "displayName": "Austin Meyer",
      "userId": "09155836452282479150"
     },
     "user_tz": 240
    },
    "id": "dAL3OkTYBmG9"
   },
   "outputs": [
    {
     "name": "stdout",
     "output_type": "stream",
     "text": [
      "Florida\n",
      "TransformedTargetForecaster(steps=[('preprocessor',\n",
      "                                    TransformerPipeline(steps=[TabularToSeriesAdaptor(transformer=PowerTransformer())])),\n",
      "                                   ('forecaster',\n",
      "                                    AutoARIMA(error_action='ignore', n_jobs=-1,\n",
      "                                              suppress_warnings=True))])\n",
      "Puerto Rico\n",
      "TransformedTargetForecaster(steps=[('preprocessor',\n",
      "                                    TransformerPipeline(steps=[TabularToSeriesAdaptor(transformer=PowerTransformer())])),\n",
      "                                   ('forecaster',\n",
      "                                    AutoARIMA(error_action='ignore', n_jobs=-1,\n",
      "                                              suppress_warnings=True))])\n",
      "Florida\n",
      "TransformedTargetForecaster(steps=[('preprocessor',\n",
      "                                    TransformerPipeline(steps=[TabularToSeriesAdaptor(transformer=PowerTransformer())])),\n",
      "                                   ('forecaster',\n",
      "                                    AutoARIMA(error_action='ignore', n_jobs=-1,\n",
      "                                              suppress_warnings=True))])\n",
      "Puerto Rico\n",
      "TransformedTargetForecaster(steps=[('preprocessor',\n",
      "                                    TransformerPipeline(steps=[TabularToSeriesAdaptor(transformer=PowerTransformer())])),\n",
      "                                   ('forecaster',\n",
      "                                    AutoARIMA(error_action='ignore', n_jobs=-1,\n",
      "                                              suppress_warnings=True))])\n",
      "Florida\n",
      "TransformedTargetForecaster(steps=[('preprocessor',\n",
      "                                    TransformerPipeline(steps=[TabularToSeriesAdaptor(transformer=PowerTransformer())])),\n",
      "                                   ('forecaster',\n",
      "                                    AutoARIMA(error_action='ignore', n_jobs=-1,\n",
      "                                              suppress_warnings=True))])\n",
      "Puerto Rico\n",
      "TransformedTargetForecaster(steps=[('preprocessor',\n",
      "                                    TransformerPipeline(steps=[TabularToSeriesAdaptor(transformer=PowerTransformer())])),\n",
      "                                   ('forecaster',\n",
      "                                    AutoARIMA(error_action='ignore', n_jobs=-1,\n",
      "                                              suppress_warnings=True))])\n",
      "Florida\n",
      "TransformedTargetForecaster(steps=[('preprocessor',\n",
      "                                    TransformerPipeline(steps=[TabularToSeriesAdaptor(transformer=PowerTransformer())])),\n",
      "                                   ('forecaster',\n",
      "                                    AutoARIMA(error_action='ignore', n_jobs=-1,\n",
      "                                              suppress_warnings=True))])\n",
      "Puerto Rico\n",
      "TransformedTargetForecaster(steps=[('preprocessor',\n",
      "                                    TransformerPipeline(steps=[TabularToSeriesAdaptor(transformer=PowerTransformer())])),\n",
      "                                   ('forecaster',\n",
      "                                    AutoARIMA(error_action='ignore', n_jobs=-1,\n",
      "                                              suppress_warnings=True))])\n"
     ]
    }
   ],
   "source": [
    "import sys\n",
    "import warnings\n",
    "if not sys.warnoptions:\n",
    "    warnings.simplefilter(\"ignore\")\n",
    "    os.environ[\"PYTHONWARNINGS\"] = \"ignore::UserWarning\"\n",
    "    os.environ[\"PYTHONWARNINGS\"] = \"ignore::FutureWarning\"\n",
    "np.warnings = warnings\n",
    "\n",
    "horizon = 4\n",
    "\n",
    "sspipe = TransformerPipeline(steps = [TabularToSeriesAdaptor(PowerTransformer())])\n",
    "\n",
    "arma_forecaster = AutoARIMA(sp = 1, suppress_warnings = True, error_action = \"ignore\", n_jobs = -1)\n",
    "\n",
    "pipe = TransformedTargetForecaster(steps=[(\"preprocessor\", sspipe),\n",
    "                                          (\"forecaster\", arma_forecaster)])\n",
    "\n",
    "all_horizons = pd.DataFrame()\n",
    "all_models = []\n",
    "for i in range(horizon): \n",
    "    country_predictions, models = generate_predictions_for_country(pipe, data, num_train, i + 1)\n",
    "    all_horizons = pd.concat([all_horizons, country_predictions])\n",
    "    all_models.append(models)"
   ]
  },
  {
   "cell_type": "code",
   "execution_count": 12,
   "metadata": {
    "executionInfo": {
     "elapsed": 15,
     "status": "aborted",
     "timestamp": 1655473149771,
     "user": {
      "displayName": "Austin Meyer",
      "userId": "09155836452282479150"
     },
     "user_tz": 240
    },
    "id": "6bOTg2F9J4Yc"
   },
   "outputs": [
    {
     "data": {
      "text/html": [
       "<div>\n",
       "<style scoped>\n",
       "    .dataframe tbody tr th:only-of-type {\n",
       "        vertical-align: middle;\n",
       "    }\n",
       "\n",
       "    .dataframe tbody tr th {\n",
       "        vertical-align: top;\n",
       "    }\n",
       "\n",
       "    .dataframe thead th {\n",
       "        text-align: right;\n",
       "    }\n",
       "</style>\n",
       "<table border=\"1\" class=\"dataframe\">\n",
       "  <thead>\n",
       "    <tr style=\"text-align: right;\">\n",
       "      <th></th>\n",
       "      <th>date</th>\n",
       "      <th>Model</th>\n",
       "      <th>Real</th>\n",
       "      <th>Persistence</th>\n",
       "      <th>horizon</th>\n",
       "      <th>dev</th>\n",
       "    </tr>\n",
       "  </thead>\n",
       "  <tbody>\n",
       "    <tr>\n",
       "      <th>0</th>\n",
       "      <td>2024-01-06</td>\n",
       "      <td>1378.423112</td>\n",
       "      <td>1414.0</td>\n",
       "      <td>1335.0</td>\n",
       "      <td>1</td>\n",
       "      <td>Florida</td>\n",
       "    </tr>\n",
       "    <tr>\n",
       "      <th>1</th>\n",
       "      <td>2024-01-13</td>\n",
       "      <td>1557.557381</td>\n",
       "      <td>1071.0</td>\n",
       "      <td>1414.0</td>\n",
       "      <td>1</td>\n",
       "      <td>Florida</td>\n",
       "    </tr>\n",
       "    <tr>\n",
       "      <th>2</th>\n",
       "      <td>2024-01-20</td>\n",
       "      <td>1241.686889</td>\n",
       "      <td>888.0</td>\n",
       "      <td>1071.0</td>\n",
       "      <td>1</td>\n",
       "      <td>Florida</td>\n",
       "    </tr>\n",
       "    <tr>\n",
       "      <th>3</th>\n",
       "      <td>2024-01-27</td>\n",
       "      <td>881.311260</td>\n",
       "      <td>835.0</td>\n",
       "      <td>888.0</td>\n",
       "      <td>1</td>\n",
       "      <td>Florida</td>\n",
       "    </tr>\n",
       "    <tr>\n",
       "      <th>4</th>\n",
       "      <td>2024-02-03</td>\n",
       "      <td>722.551984</td>\n",
       "      <td>711.0</td>\n",
       "      <td>835.0</td>\n",
       "      <td>1</td>\n",
       "      <td>Florida</td>\n",
       "    </tr>\n",
       "    <tr>\n",
       "      <th>...</th>\n",
       "      <td>...</td>\n",
       "      <td>...</td>\n",
       "      <td>...</td>\n",
       "      <td>...</td>\n",
       "      <td>...</td>\n",
       "      <td>...</td>\n",
       "    </tr>\n",
       "    <tr>\n",
       "      <th>13</th>\n",
       "      <td>2024-04-27</td>\n",
       "      <td>48.437686</td>\n",
       "      <td>44.0</td>\n",
       "      <td>48.0</td>\n",
       "      <td>4</td>\n",
       "      <td>Puerto Rico</td>\n",
       "    </tr>\n",
       "    <tr>\n",
       "      <th>14</th>\n",
       "      <td>2024-05-04</td>\n",
       "      <td>40.849683</td>\n",
       "      <td>NaN</td>\n",
       "      <td>39.0</td>\n",
       "      <td>4</td>\n",
       "      <td>Puerto Rico</td>\n",
       "    </tr>\n",
       "    <tr>\n",
       "      <th>15</th>\n",
       "      <td>2024-05-11</td>\n",
       "      <td>42.080899</td>\n",
       "      <td>NaN</td>\n",
       "      <td>43.0</td>\n",
       "      <td>4</td>\n",
       "      <td>Puerto Rico</td>\n",
       "    </tr>\n",
       "    <tr>\n",
       "      <th>16</th>\n",
       "      <td>2024-05-18</td>\n",
       "      <td>37.460232</td>\n",
       "      <td>NaN</td>\n",
       "      <td>36.0</td>\n",
       "      <td>4</td>\n",
       "      <td>Puerto Rico</td>\n",
       "    </tr>\n",
       "    <tr>\n",
       "      <th>17</th>\n",
       "      <td>2024-05-25</td>\n",
       "      <td>42.083318</td>\n",
       "      <td>NaN</td>\n",
       "      <td>44.0</td>\n",
       "      <td>4</td>\n",
       "      <td>Puerto Rico</td>\n",
       "    </tr>\n",
       "  </tbody>\n",
       "</table>\n",
       "<p>144 rows × 6 columns</p>\n",
       "</div>"
      ],
      "text/plain": [
       "          date        Model    Real  Persistence  horizon          dev\n",
       "0   2024-01-06  1378.423112  1414.0       1335.0        1      Florida\n",
       "1   2024-01-13  1557.557381  1071.0       1414.0        1      Florida\n",
       "2   2024-01-20  1241.686889   888.0       1071.0        1      Florida\n",
       "3   2024-01-27   881.311260   835.0        888.0        1      Florida\n",
       "4   2024-02-03   722.551984   711.0        835.0        1      Florida\n",
       "..         ...          ...     ...          ...      ...          ...\n",
       "13  2024-04-27    48.437686    44.0         48.0        4  Puerto Rico\n",
       "14  2024-05-04    40.849683     NaN         39.0        4  Puerto Rico\n",
       "15  2024-05-11    42.080899     NaN         43.0        4  Puerto Rico\n",
       "16  2024-05-18    37.460232     NaN         36.0        4  Puerto Rico\n",
       "17  2024-05-25    42.083318     NaN         44.0        4  Puerto Rico\n",
       "\n",
       "[144 rows x 6 columns]"
      ]
     },
     "execution_count": 12,
     "metadata": {},
     "output_type": "execute_result"
    }
   ],
   "source": [
    "all_horizons"
   ]
  },
  {
   "cell_type": "markdown",
   "metadata": {
    "id": "uViCVXh6GfOH"
   },
   "source": [
    "### Push data over to R"
   ]
  },
  {
   "cell_type": "code",
   "execution_count": 13,
   "metadata": {
    "executionInfo": {
     "elapsed": 15,
     "status": "aborted",
     "timestamp": 1655473149771,
     "user": {
      "displayName": "Austin Meyer",
      "userId": "09155836452282479150"
     },
     "user_tz": 240
    },
    "id": "EA7xXtuzH1R5"
   },
   "outputs": [],
   "source": [
    "%%capture\n",
    "%R -i all_horizons"
   ]
  },
  {
   "cell_type": "markdown",
   "metadata": {
    "id": "zRrYA2guFAUp"
   },
   "source": [
    "### Quick Error Check"
   ]
  },
  {
   "cell_type": "code",
   "execution_count": 14,
   "metadata": {
    "executionInfo": {
     "elapsed": 15,
     "status": "aborted",
     "timestamp": 1655473149771,
     "user": {
      "displayName": "Austin Meyer",
      "userId": "09155836452282479150"
     },
     "user_tz": 240
    },
    "id": "--dbsNcGFDvw"
   },
   "outputs": [
    {
     "name": "stdout",
     "output_type": "stream",
     "text": [
      "     model    naive\n",
      "1 116.2652 86.22218\n"
     ]
    }
   ],
   "source": [
    "%%R\n",
    "\n",
    "all_horizons %>%\n",
    "  drop_na() %>%\n",
    "  filter(horizon == 1) %>%\n",
    "  summarise(model = RMSE(Model, Real), \n",
    "            naive = RMSE(Persistence, Real))"
   ]
  },
  {
   "cell_type": "code",
   "execution_count": 15,
   "metadata": {
    "executionInfo": {
     "elapsed": 16,
     "status": "aborted",
     "timestamp": 1655473149772,
     "user": {
      "displayName": "Austin Meyer",
      "userId": "09155836452282479150"
     },
     "user_tz": 240
    },
    "id": "bBy5hDruGKnS"
   },
   "outputs": [
    {
     "name": "stdout",
     "output_type": "stream",
     "text": [
      "# A tibble: 2 × 3\n",
      "  dev         model naive\n",
      "  <chr>       <dbl> <dbl>\n",
      "1 Florida     164.  121. \n"
     ]
    },
    {
     "name": "stdout",
     "output_type": "stream",
     "text": [
      "2 Puerto Rico  11.1  12.9\n"
     ]
    }
   ],
   "source": [
    "%%R\n",
    "\n",
    "all_horizons %>%\n",
    "  drop_na() %>%\n",
    "  filter(horizon == 1) %>%\n",
    "  group_by(dev) %>%\n",
    "  summarise(model = RMSE(Model, Real), \n",
    "            naive = RMSE(Persistence, Real))"
   ]
  },
  {
   "cell_type": "code",
   "execution_count": 16,
   "metadata": {
    "executionInfo": {
     "elapsed": 15,
     "status": "aborted",
     "timestamp": 1655473149772,
     "user": {
      "displayName": "Austin Meyer",
      "userId": "09155836452282479150"
     },
     "user_tz": 240
    },
    "id": "8Q8FpPGe3O4n"
   },
   "outputs": [
    {
     "name": "stdout",
     "output_type": "stream",
     "text": [
      "Rows: 31779 Columns: 7\n",
      "── Column specification ────────────────────────────────────────────────────────\n",
      "Delimiter: \",\"\n",
      "chr  (1): location_name\n",
      "dbl  (5): ili, pred_hosp, true_hosp, population, total_hosp\n",
      "date (1): date\n",
      "\n",
      "ℹ Use `spec()` to retrieve the full column specification for this data.\n",
      "ℹ Specify the column types or set `show_col_types = FALSE` to quiet this message.\n"
     ]
    }
   ],
   "source": [
    "%%R\n",
    "\n",
    "tmp <- read_csv('../imputed_and_stitched_hosp.csv') %>%\n",
    "  arrange(date)\n",
    "\n",
    "sarima.r <- all_horizons %>%\n",
    "  mutate(value = Model,\n",
    "         date_predicted = date,\n",
    "         location_name = dev,\n",
    "         target_value = Real) %>%\n",
    "  select(date_predicted, value, target_value, location_name, horizon) %>%\n",
    "  mutate(date_created = Sys.Date(),\n",
    "         aggregation = 'weekly', \n",
    "         model = 'sarima', \n",
    "         target = 'cases') %>%\n",
    "  relocate(any_of(c(\"date_created\", \"date_predicted\", \n",
    "                    \"aggregation\", 'location_name',\n",
    "                    'model', 'target', 'horizon', 'value', 'target_value')))\n",
    "\n",
    "write_csv(sarima.r, file = 'flu_sarima_predictions_extra.csv')"
   ]
  },
  {
   "cell_type": "code",
   "execution_count": null,
   "metadata": {},
   "outputs": [],
   "source": []
  }
 ],
 "metadata": {
  "colab": {
   "collapsed_sections": [
    "CAaZvyboJe4F",
    "4h6PnJqhWMco",
    "7YyhrGci56Qf",
    "G7i7ECWDHvl-",
    "1vOr8aVHHyRo"
   ],
   "machine_shape": "hm",
   "name": "malaysian_sarima_sktime.ipynb",
   "provenance": []
  },
  "gpuClass": "standard",
  "hide_input": false,
  "kernelspec": {
   "display_name": "Python 3 (ipykernel)",
   "language": "python",
   "name": "python3"
  },
  "language_info": {
   "codemirror_mode": {
    "name": "ipython",
    "version": 3
   },
   "file_extension": ".py",
   "mimetype": "text/x-python",
   "name": "python",
   "nbconvert_exporter": "python",
   "pygments_lexer": "ipython3",
   "version": "3.9.18"
  }
 },
 "nbformat": 4,
 "nbformat_minor": 1
}
